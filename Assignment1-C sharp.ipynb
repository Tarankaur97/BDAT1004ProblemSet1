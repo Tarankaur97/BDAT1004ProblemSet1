{
 "cells": [
  {
   "cell_type": "markdown",
   "id": "11881cf3",
   "metadata": {
    "slideshow": {
     "slide_type": "slide"
    }
   },
   "source": [
    "1) What data type is each of the following?\n",
    "5\n",
    "5.0\n",
    "5 > 1\n",
    "'5'\n",
    "5 * 2\n",
    "'5' * 2\n",
    "'5' + '2'\n",
    "5 / 2\n",
    "5\n",
    "2\n",
    "{\n",
    "5, 2, 1\n",
    "5\n",
    "== 3\n",
    "Pi\n",
    "(the number)"
   ]
  },
  {
   "attachments": {
    "ans1.png": {
     "image/png": "[encoded data removed]"
    }
   },
   "cell_type": "markdown",
   "id": "bc51ec57",
   "metadata": {
    "slideshow": {
     "slide_type": "fragment"
    }
   },
   "source": [
    "5 - Int32\n",
    "5.0 - Double\n",
    "5 > 1 - Boolean\n",
    "'5' - String\n",
    "5 * 2 - Int32\n",
    "'5' * 2 - String\n",
    "'5' + '2' - String\n",
    "5 / 2- Int32\n",
    "5%2 -Double\n",
    "{5, 2, 1} -List\n",
    "5==3 - Boolean\n",
    "Pi(the number) - Double![ans1.png](attachment:ans1.png)\n",
    "\n",
    "\n",
    "\n",
    "\n",
    "\n",
    "\n",
    "\n",
    "\n",
    "\n",
    "\n",
    "\n",
    "\n",
    "\n",
    "\n",
    "\n",
    "\n",
    "\n",
    "\n",
    "\n",
    "\n",
    "\n",
    "\n",
    "\n",
    "\n",
    "\n",
    "\n",
    "\n",
    "\n",
    "\n",
    "\n",
    "\n",
    "\n",
    "\n",
    "\n",
    "\n",
    "\n",
    "\n",
    "\n",
    "\n",
    "\n",
    "\n",
    "\n",
    "\n",
    "\n",
    "\n",
    "\n",
    "\n",
    "\n",
    "\n",
    "\n",
    "\n",
    "\n",
    "\n",
    "\n",
    "\n",
    "\n",
    "\n",
    "\n"
   ]
  },
  {
   "cell_type": "markdown",
   "id": "64239a2e",
   "metadata": {
    "slideshow": {
     "slide_type": "slide"
    }
   },
   "source": [
    "2) a)How many letters are there in 'Supercalifragilisticexpialidocious'?"
   ]
  },
  {
   "cell_type": "code",
   "execution_count": 7,
   "id": "04db3f0d",
   "metadata": {
    "slideshow": {
     "slide_type": "slide"
    }
   },
   "outputs": [
    {
     "name": "stdout",
     "output_type": "stream",
     "text": [
      "Number of letters in Supercalifragilisticexpialidocious is 34\r\n"
     ]
    }
   ],
   "source": [
    "var text = \"Supercalifragilisticexpialidocious\";\n",
    "    Console.WriteLine(\"Number of letters in Supercalifragilisticexpialidocious is \" +text.Length);"
   ]
  },
  {
   "attachments": {
    "ans2a.png": {
     "image/png": "[encoded data removed]"
    }
   },
   "cell_type": "markdown",
   "id": "de12da92",
   "metadata": {},
   "source": [
    "![ans2a.png](attachment:ans2a.png)"
   ]
  },
  {
   "cell_type": "markdown",
   "id": "4caa7a89",
   "metadata": {
    "slideshow": {
     "slide_type": "slide"
    }
   },
   "source": [
    "2) b)Does 'Supercalifragilisticexpialidocious' contain 'ice' as a substring?\n",
    "\n"
   ]
  },
  {
   "cell_type": "code",
   "execution_count": 8,
   "id": "33e42d8f",
   "metadata": {
    "scrolled": true,
    "slideshow": {
     "slide_type": "slide"
    }
   },
   "outputs": [
    {
     "name": "stdout",
     "output_type": "stream",
     "text": [
      "Supercalifragilisticexpialidocious contains 'ice' as a substring\r\n"
     ]
    }
   ],
   "source": [
    "var str1 = \"Supercalifragilisticexpialidocious\";\n",
    "  if (str1.Contains(\"ice\"))\n",
    "      Console.WriteLine(\"Supercalifragilisticexpialidocious contains 'ice' as a substring\");"
   ]
  },
  {
   "attachments": {
    "ans2b.png": {
     "image/png": "[encoded data removed]"
    }
   },
   "cell_type": "markdown",
   "id": "a787550b",
   "metadata": {},
   "source": [
    "![ans2b.png](attachment:ans2b.png)"
   ]
  },
  {
   "cell_type": "markdown",
   "id": "a10543f0",
   "metadata": {
    "slideshow": {
     "slide_type": "slide"
    }
   },
   "source": [
    "2) c)Which of the following words is the longest: Supercalifragilisticexpialidocious, Honorificabilitudinitatibus, or Bababadalgharaghtakamminarronnkonn?"
   ]
  },
  {
   "cell_type": "code",
   "execution_count": 1,
   "id": "cfd73368",
   "metadata": {
    "slideshow": {
     "slide_type": "slide"
    }
   },
   "outputs": [
    {
     "name": "stdout",
     "output_type": "stream",
     "text": [
      "The longest word is : Supercalifragilisticexpialidocious\r\n"
     ]
    }
   ],
   "source": [
    "IList<string>words = new List<string>();\n",
    "            IList<int>words_length = new List<int>();\n",
    "\n",
    "            words.Add(\"Supercalifragilisticexpialidocious\");\n",
    "            words.Add(\"Honorificabilitudinitatibus\");\n",
    "            words.Add(\"Bababadalgharaghtakamminarronnkonn\");\n",
    "\n",
    "            foreach (var word in words)\n",
    "            {\n",
    "                words_length.Add(word.Length);\n",
    "            }\n",
    "\n",
    "            var longest = words_length.Max();\n",
    "            var index = words_length.IndexOf(longest);\n",
    "\n",
    "            Console.WriteLine(\"The longest word is : \" + words[index]);"
   ]
  },
  {
   "attachments": {
    "ans2c.png": {
     "image/png": "[encoded data removed]"
    }
   },
   "cell_type": "markdown",
   "id": "f8c1a959",
   "metadata": {},
   "source": [
    "![ans2c.png](attachment:ans2c.png)"
   ]
  },
  {
   "cell_type": "markdown",
   "id": "5000db59",
   "metadata": {
    "slideshow": {
     "slide_type": "slide"
    }
   },
   "source": [
    "2) d) Which composer comes first in the dictionary: 'Berlioz', 'Borodin', 'Brian', 'Bartok', 'Bellini', 'Buxtehude', 'Bernstein'. Which one comes last?"
   ]
  },
  {
   "cell_type": "code",
   "execution_count": 14,
   "id": "a2611d9c",
   "metadata": {
    "slideshow": {
     "slide_type": "slide"
    }
   },
   "outputs": [
    {
     "name": "stdout",
     "output_type": "stream",
     "text": [
      "Name of the composer who came first : Bartok\n",
      "Name of the composer who came last: Buxtehude\n"
     ]
    }
   ],
   "source": [
    " List<string> names = new List<string>();\n",
    "            names.Add(\"Berlioz\");\n",
    "            names.Add(\"Borodin\");\n",
    "            names.Add(\"Brian\");\n",
    "            names.Add(\"Bartok\");\n",
    "            names.Add(\"Bellini\");\n",
    "            names.Add(\"Buxtehude\");\n",
    "            names.Add(\"Bernstein\");\n",
    "            names.Sort();\n",
    "            Console.WriteLine(\"Name of the composer who came first : \"+names[0]);\n",
    "            names.Reverse();\n",
    "            Console.WriteLine(\"Name of the composer who came last: \"+names[0]);"
   ]
  },
  {
   "attachments": {
    "Ans2d.png": {
     "image/png": "[encoded data removed]"
    }
   },
   "cell_type": "markdown",
   "id": "10b0eb6b",
   "metadata": {},
   "source": [
    "![Ans2d.png](attachment:Ans2d.png)"
   ]
  },
  {
   "cell_type": "markdown",
   "id": "124ce65a",
   "metadata": {
    "slideshow": {
     "slide_type": "slide"
    }
   },
   "source": [
    "3) Implement function triangleArea(a,b,c) that takes as input the lengths of the 3 sides of a triangle and returns the area of the triangle. By Heron's formula, the area of a triangle with side lengths a, b, and c is s(s-a)(s-b)(s-c), where s=(a+b+c)/2."
   ]
  },
  {
   "cell_type": "code",
   "execution_count": null,
   "id": "92ef0fdb",
   "metadata": {
    "slideshow": {
     "slide_type": "slide"
    }
   },
   "outputs": [],
   "source": [
    "//Visual Studio Code\n",
    "\n",
    "using System;\n",
    "using System.Collections.Generic;\n",
    "\n",
    "namespace ConsoleApp1\n",
    "{\n",
    "    internal class Program\n",
    "    {\n",
    "        static void Main(string[] args)\n",
    "        {\n",
    "            Console.Write(\"Input the length of side 1:\");\n",
    "\n",
    "            double a1 = Convert.ToDouble(Console.ReadLine());\n",
    "\n",
    "            Console.Write(\"Input the length of side 2:\");\n",
    "\n",
    "            double b1 = Convert.ToDouble(Console.ReadLine());\n",
    "\n",
    "            Console.Write(\"Input the length of side 3:\");\n",
    "\n",
    "            double c1 = Convert.ToDouble(Console.ReadLine());\n",
    "\n",
    "            double semiperimeter = (a1 + b1 + c1) / 2;\n",
    "\n",
    "            double Area = Math.Sqrt(semiperimeter * (semiperimeter - a1) * (semiperimeter - b1) * (semiperimeter - c1));\n",
    "\n",
    "            Console.Write(\"Area of a Triangle = \" + Area);\n",
    "\n",
    "            Console.ReadKey();\n",
    "\n",
    "            var s = (a1 + b1 + c1) / 2;\n",
    "            var area = Math.Sqrt(s * ((s - a1) * (s - b1) * (s - c1)));\n",
    "            Console.WriteLine(area);\n",
    "        }\n",
    "\n",
    "    }\n",
    "    }\n",
    "\n",
    "  \n"
   ]
  },
  {
   "attachments": {
    "triangle.png": {
     "image/png": "[encoded data removed]"
    }
   },
   "cell_type": "markdown",
   "id": "e78e10f2",
   "metadata": {},
   "source": [
    "![triangle.png](attachment:triangle.png)"
   ]
  },
  {
   "cell_type": "markdown",
   "id": "3c67919a",
   "metadata": {
    "slideshow": {
     "slide_type": "slide"
    }
   },
   "source": [
    "4) Write a program in C# Sharp to separate odd and even integers in separate arrays."
   ]
  },
  {
   "cell_type": "code",
   "execution_count": 36,
   "id": "e6dec625",
   "metadata": {
    "slideshow": {
     "slide_type": "fragment"
    }
   },
   "outputs": [
    {
     "name": "stdout",
     "output_type": "stream",
     "text": [
      "Input the number of elements to be stored in array : Input  elements in the array :\n"
     ]
    }
   ],
   "source": [
    "//Visual studio code\n",
    "\n",
    "using System;\n",
    "using System.Collections.Generic;  \n",
    "\n",
    "namespace ConsoleApp1\n",
    "{\n",
    "    internal class Program\n",
    "    {\n",
    "        static void Main(string[] args)\n",
    "        {\n",
    "            \n",
    "                List<int> lst = new List<int>(); \n",
    "                List<int> even = new List<int>();\n",
    "                List<int> odd = new List<int>();\n",
    "                Console.Write(\"Input the number of elements to be stored in array : \");\n",
    "                var number = Console.ReadLine();\n",
    "                Console.WriteLine(\"Input \" + number + \" elements in the array :\");\n",
    "                var i = 0;\n",
    "                while (i < int.Parse(number))\n",
    "                {\n",
    "                    Console.Write(\"element - \" + i + \" : \");\n",
    "                    string value_entered = Console.ReadLine();\n",
    "                    lst.Add(Convert.ToInt32(value_entered));\n",
    "                    i++;\n",
    "                }\n",
    "                foreach (var val in lst)\n",
    "                {\n",
    "                    if (val % 2 == 0)\n",
    "                    {\n",
    "                        even.Add(val);\n",
    "                    }\n",
    "                    else\n",
    "                    {\n",
    "                        odd.Add(val);\n",
    "                    }\n",
    "                }\n",
    "                Console.WriteLine(\"The Even elements are:\");\n",
    "\n",
    "                foreach (var val in even)\n",
    "                {\n",
    "                    Console.Write(val + \" \");\n",
    "                }\n",
    "                Console.WriteLine(\" \");\n",
    "                Console.WriteLine(\"The Odd elements are:\");\n",
    "\n",
    "                foreach (var val in odd)\n",
    "                {\n",
    "                    Console.Write(val + \" \");\n",
    "                }\n",
    "            }\n",
    "\n",
    "        }\n",
    "    }\n",
    "\n",
    "  \n"
   ]
  },
  {
   "attachments": {
    "4questionoutput.png": {
     "image/png": "[encoded data removed]"
    }
   },
   "cell_type": "markdown",
   "id": "583edcba",
   "metadata": {},
   "source": [
    "![4questionoutput.png](attachment:4questionoutput.png)"
   ]
  },
  {
   "cell_type": "markdown",
   "id": "b2f25632",
   "metadata": {
    "slideshow": {
     "slide_type": "slide"
    }
   },
   "source": [
    "5) a) Write a function inside(x,y,x1,y1,x2,y2) that returns True or False depending on whether the point (x,y) lies in the rectangle with lower left corner (x1,y1) and upper right corner (x2,y2)."
   ]
  },
  {
   "cell_type": "code",
   "execution_count": 4,
   "id": "010635c9",
   "metadata": {
    "slideshow": {
     "slide_type": "slide"
    }
   },
   "outputs": [],
   "source": [
    "public static bool inside(int x,int y,int x1,int y1,int x2,int y2)\n",
    "        {\n",
    "            if (x > x1 && x < x2 && y > y1 && y < y2)\n",
    "            {\n",
    "                return true;\n",
    "            }\n",
    "            else\n",
    "                return false;\n",
    "        }\n"
   ]
  },
  {
   "cell_type": "code",
   "execution_count": 11,
   "id": "cc89e6b6",
   "metadata": {},
   "outputs": [
    {
     "data": {
      "text/plain": [
       "True"
      ]
     },
     "execution_count": 11,
     "metadata": {},
     "output_type": "execute_result"
    }
   ],
   "source": [
    "inside(1,1,0,0,2,3)"
   ]
  },
  {
   "cell_type": "code",
   "execution_count": 12,
   "id": "57b94cc4",
   "metadata": {},
   "outputs": [
    {
     "data": {
      "text/plain": [
       "False"
      ]
     },
     "execution_count": 12,
     "metadata": {},
     "output_type": "execute_result"
    }
   ],
   "source": [
    "inside(-1,-1,0,0,2,3)"
   ]
  },
  {
   "attachments": {
    "Ans5a.png": {
     "image/png": "[encoded data removed]"
    }
   },
   "cell_type": "markdown",
   "id": "9bcc078c",
   "metadata": {},
   "source": [
    "![Ans5a.png](attachment:Ans5a.png)"
   ]
  },
  {
   "cell_type": "markdown",
   "id": "e95736bb",
   "metadata": {
    "slideshow": {
     "slide_type": "slide"
    }
   },
   "source": [
    "5) b)Use function inside() from part a. to write an expression that tests whether the point (1,1) lies in both of the following rectangles: one with lower left corner (0.3, 0.5) and upper right corner (1.1, 0.7) and the other with lower left corner (0.5, 0.2) and upper right corner (1.1, 2)."
   ]
  },
  {
   "cell_type": "code",
   "execution_count": 9,
   "id": "c39b01af",
   "metadata": {
    "slideshow": {
     "slide_type": "slide"
    }
   },
   "outputs": [],
   "source": [
    "public static void inside(int x, int y, double x1, double y1, double x2, double y2,double x3,double y3,double x4,double y4)\n",
    "        {\n",
    "            if (x > x1 && x < x2 && y > y1 && y < y2)\n",
    "            {\n",
    "                if(x > x3 && x < x4 && y > y3 && y < y4)\n",
    "                {\n",
    "                    Console.WriteLine(\"True\");\n",
    "                }\n",
    "            }\n",
    "            else\n",
    "                Console.WriteLine(\"False\");\n",
    "        }\n"
   ]
  },
  {
   "cell_type": "code",
   "execution_count": 10,
   "id": "6225600b",
   "metadata": {},
   "outputs": [
    {
     "name": "stdout",
     "output_type": "stream",
     "text": [
      "False\r\n"
     ]
    }
   ],
   "source": [
    "inside(7,9,1.8,1.9,3.5,6.7,9.0,7.9,5.6,4.4)"
   ]
  },
  {
   "attachments": {
    "Ans5b.png": {
     "image/png": "[encoded data removed]"
    }
   },
   "cell_type": "markdown",
   "id": "c87789c4",
   "metadata": {},
   "source": [
    "![Ans5b.png](attachment:Ans5b.png)"
   ]
  },
  {
   "cell_type": "code",
   "execution_count": null,
   "id": "5fac510f",
   "metadata": {},
   "outputs": [],
   "source": []
  }
 ],
 "metadata": {
  "celltoolbar": "Slideshow",
  "kernelspec": {
   "display_name": ".NET (C#)",
   "language": "C#",
   "name": ".net-csharp"
  },
  "language_info": {
   "file_extension": ".cs",
   "mimetype": "text/x-csharp",
   "name": "C#",
   "pygments_lexer": "csharp",
   "version": "8.0"
  }
 },
 "nbformat": 4,
 "nbformat_minor": 5
}
